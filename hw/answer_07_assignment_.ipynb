{
  "cells": [
    {
      "cell_type": "markdown",
      "metadata": {
        "id": "view-in-github"
      },
      "source": [
        "<a href=\"https://colab.research.google.com/github/data602sps/assignments/blob/master/05_assignment.ipynb\" target=\"_parent\"><img src=\"https://colab.research.google.com/assets/colab-badge.svg\" alt=\"Open In Colab\"/></a>"
      ]
    },
    {
      "cell_type": "markdown",
      "metadata": {
        "id": "rd2QZetSDszc"
      },
      "source": [
        "# **Assignment 7**\n",
        "\n",
        "# **Weeks 8 & 9 - Pandas**\n",
        "* In this homework assignment, you will explore and analyze a public dataset of your choosing. Since this assignment is “open-ended” in nature, you are free to expand upon the requirements below. However, you must meet the minimum requirments as indicated in each section.\n",
        "\n",
        "* You must use Pandas as the **primary tool** to process your data.\n",
        "\n",
        "* The preferred method for this analysis is in a .ipynb file. Feel free to use whichever platform of your choosing.  \n",
        " * https://www.youtube.com/watch?v=inN8seMm7UI (Getting started with Colab).\n",
        "\n",
        "* Your data should need some \"work\", or be considered \"dirty\".  You must show your skills in data cleaning/wrangling.\n",
        "\n",
        "### **Some data examples:**\n",
        "•\thttps://www.data.gov/\n",
        "\n",
        "•\thttps://opendata.cityofnewyork.us/\n",
        "\n",
        "•\thttps://datasetsearch.research.google.com/\n",
        "\n",
        "•\thttps://archive.ics.uci.edu/ml/index.php\n",
        "\n",
        "### **Resources:**\n",
        "\n",
        "•\thttps://pandas.pydata.org/pandas-docs/stable/getting_started/10min.html\n",
        "\n",
        "•\thttps://pandas.pydata.org/pandas-docs/stable/user_guide/visualization.html\n",
        "\n",
        "\n",
        "### **Headings or comments**\n",
        "**You are required to make use of comments, or headings for each section.  You must explain what your code is doing, and the results of running your code.**  Act as if you were giving this assignment to your manager - you must include clear and descriptive information for each section.\n",
        "\n",
        "### **You may work as a group or indivdually on this assignment.**\n"
      ]
    },
    {
      "cell_type": "markdown",
      "metadata": {
        "id": "uW3w6p8rqgxu"
      },
      "source": [
        "# Introduction\n",
        "\n",
        "In this section, please describe the dataset you are using.  Include a link to the source of this data.  You should also provide some explanation on why you choose this dataset."
      ]
    },
    {
      "cell_type": "markdown",
      "metadata": {
        "id": "L0PnfMOFzOXz"
      },
      "source": [
        "This analysis explores the \"AmazingMartEU\" dataset, detailing online retailer AmazingMart's EU market transactions. The dataset provides a rich source for examining retail dynamics. This analysis is pivotal for evaluating Q4 performance and strategizing future sales approaches.\n",
        "\n",
        "**Question \"Which top 3 countries have the highest profit margin in Q4?\"**\n",
        "\n",
        "Data is hosted @ https://raw.githubusercontent.com/yinaS1234/data-602/main/hw/AmazingMartEU.xlsx\n"
      ]
    },
    {
      "cell_type": "markdown",
      "metadata": {
        "id": "3bp8cdDxDs2t"
      },
      "source": [
        "______________\n",
        "# Data Exploration\n",
        "Import your dataset into your .ipynb, create dataframes, and explore your data.  \n",
        "\n",
        "Include:\n",
        "\n",
        "* Summary statistics means, medians, quartiles,\n",
        "* Missing value information\n",
        "* Any other relevant information about the dataset.  \n",
        "\n"
      ]
    },
    {
      "cell_type": "code",
      "execution_count": 1,
      "metadata": {
        "id": "1OJmbafkEhhq"
      },
      "outputs": [],
      "source": [
        "# import library\n",
        "import pandas as pd\n",
        "import numpy as np"
      ]
    },
    {
      "cell_type": "code",
      "execution_count": 2,
      "metadata": {
        "colab": {
          "base_uri": "https://localhost:8080/"
        },
        "id": "b0WTKtqozNn1",
        "outputId": "f6bd29a6-94de-407d-a07c-f5b08c482ed7"
      },
      "outputs": [
        {
          "name": "stdout",
          "output_type": "stream",
          "text": [
            "<class 'pandas.core.frame.DataFrame'>\n",
            "RangeIndex: 4117 entries, 0 to 4116\n",
            "Data columns (total 10 columns):\n",
            " #   Column         Non-Null Count  Dtype         \n",
            "---  ------         --------------  -----         \n",
            " 0   Order ID       4117 non-null   object        \n",
            " 1   Order Date     4117 non-null   datetime64[ns]\n",
            " 2   Customer Name  4117 non-null   object        \n",
            " 3   City           4117 non-null   object        \n",
            " 4   Country        4117 non-null   object        \n",
            " 5   Region         4117 non-null   object        \n",
            " 6   Segment        4117 non-null   object        \n",
            " 7   Ship Date      4117 non-null   datetime64[ns]\n",
            " 8   Ship Mode      4117 non-null   object        \n",
            " 9   State          4117 non-null   object        \n",
            "dtypes: datetime64[ns](2), object(8)\n",
            "memory usage: 321.8+ KB\n",
            "None\n",
            "<class 'pandas.core.frame.DataFrame'>\n",
            "RangeIndex: 8047 entries, 0 to 8046\n",
            "Data columns (total 8 columns):\n",
            " #   Column        Non-Null Count  Dtype  \n",
            "---  ------        --------------  -----  \n",
            " 0   Order ID      8047 non-null   object \n",
            " 1   Product Name  8047 non-null   object \n",
            " 2   Discount      8047 non-null   float64\n",
            " 3   Sales         8045 non-null   float64\n",
            " 4   Profit        8047 non-null   int64  \n",
            " 5   Quantity      8047 non-null   int64  \n",
            " 6   Category      8047 non-null   object \n",
            " 7   Sub-Category  8047 non-null   object \n",
            "dtypes: float64(2), int64(2), object(4)\n",
            "memory usage: 503.1+ KB\n",
            "None\n",
            "               Order ID                     Order Date Customer Name    City  \\\n",
            "count              4117                           4117          4117    4117   \n",
            "unique             4117                            NaN           792     999   \n",
            "top     BN-2011-7407039                            NaN  Jose Gambino  London   \n",
            "freq                  1                            NaN            13     113   \n",
            "mean                NaN  2013-04-16 21:15:36.507165440           NaN     NaN   \n",
            "min                 NaN            2011-01-01 00:00:00           NaN     NaN   \n",
            "25%                 NaN            2012-06-01 00:00:00           NaN     NaN   \n",
            "50%                 NaN            2013-06-07 00:00:00           NaN     NaN   \n",
            "75%                 NaN            2014-04-24 00:00:00           NaN     NaN   \n",
            "max                 NaN            2014-12-31 00:00:00           NaN     NaN   \n",
            "\n",
            "       Country   Region   Segment                      Ship Date Ship Mode  \\\n",
            "count     4117     4117      4117                           4117      4117   \n",
            "unique      15        3         3                            NaN         4   \n",
            "top     France  Central  Consumer                            NaN   Economy   \n",
            "freq       991     2234      2132                            NaN      2445   \n",
            "mean       NaN      NaN       NaN  2013-04-20 20:29:47.320864768       NaN   \n",
            "min        NaN      NaN       NaN            2011-01-05 00:00:00       NaN   \n",
            "25%        NaN      NaN       NaN            2012-06-05 00:00:00       NaN   \n",
            "50%        NaN      NaN       NaN            2013-06-11 00:00:00       NaN   \n",
            "75%        NaN      NaN       NaN            2014-04-28 00:00:00       NaN   \n",
            "max        NaN      NaN       NaN            2015-01-05 00:00:00       NaN   \n",
            "\n",
            "          State  \n",
            "count      4117  \n",
            "unique      127  \n",
            "top     England  \n",
            "freq        624  \n",
            "mean        NaN  \n",
            "min         NaN  \n",
            "25%         NaN  \n",
            "50%         NaN  \n",
            "75%         NaN  \n",
            "max         NaN  \n",
            "          Discount        Sales       Profit     Quantity\n",
            "count  8047.000000  8045.000000  8047.000000  8047.000000\n",
            "mean      0.110047   291.845867    35.198211     3.772089\n",
            "std       0.181773   485.258204   178.125844     2.203369\n",
            "min       0.000000     3.000000 -3060.000000     1.000000\n",
            "25%       0.000000    48.000000     1.000000     2.000000\n",
            "50%       0.000000   117.000000    14.000000     3.000000\n",
            "75%       0.100000   313.000000    47.000000     5.000000\n",
            "max       0.850000  6517.000000  2476.000000    14.000000\n"
          ]
        }
      ],
      "source": [
        "# load data and summary statistics\n",
        "url='https://raw.githubusercontent.com/yinaS1234/data-602/main/hw/AmazingMartEU.xlsx'\n",
        "xls=pd.ExcelFile(url)\n",
        "orders=pd.read_excel(xls,'ListOfOrders')\n",
        "sales=pd.read_excel(xls,'OrderBreakdown')\n",
        "print(orders.info())\n",
        "print(sales.info())\n",
        "print(orders.describe(include='all'))\n",
        "print(sales.describe())\n"
      ]
    },
    {
      "cell_type": "markdown",
      "metadata": {
        "id": "kCSLIafaEGVK"
      },
      "source": [
        "# Data Wrangling\n",
        "Create a subset of your original data and perform the following.  \n",
        "\n",
        "1. Modify multiple column names.\n",
        "\n",
        "2. Look at the structure of your data – are any variables improperly coded? Such as strings or characters? Convert to correct structure if needed.\n",
        "\n",
        "3. Fix missing and invalid values in data.\n",
        "\n",
        "4. Create new columns based on existing columns or calculations.\n",
        "\n",
        "5. Drop column(s) from your dataset.\n",
        "\n",
        "6. Drop a row(s) from your dataset.\n",
        "\n",
        "7. Sort your data based on multiple variables.\n",
        "\n",
        "8. Filter your data based on some condition.\n",
        "\n",
        "9. Convert all the string values to upper or lower cases in one column.\n",
        "\n",
        "10. Check whether numeric values are present in a given column of your dataframe.\n",
        "\n",
        "11. Group your dataset by one column, and get the mean, min, and max values by group.\n",
        "  * Groupby()\n",
        "  * agg() or .apply()\n",
        "\n",
        "12. Group your dataset by two columns and then sort the aggregated results within the groups.\n",
        "\n",
        "**You are free (and should) to add on to these questions.  Please clearly indicate in your assignment your answers to these questions.**"
      ]
    },
    {
      "cell_type": "markdown",
      "metadata": {
        "id": "KKJ97ZBWxTLH"
      },
      "source": [
        "Merge the orders and sales df on the Order ID column"
      ]
    },
    {
      "cell_type": "code",
      "execution_count": 3,
      "metadata": {
        "colab": {
          "base_uri": "https://localhost:8080/"
        },
        "id": "4VWWvvynEiQT",
        "outputId": "9ea488c8-f65d-4582-c3a8-4932101d10ea"
      },
      "outputs": [
        {
          "name": "stdout",
          "output_type": "stream",
          "text": [
            "<class 'pandas.core.frame.DataFrame'>\n",
            "RangeIndex: 8047 entries, 0 to 8046\n",
            "Data columns (total 17 columns):\n",
            " #   Column         Non-Null Count  Dtype         \n",
            "---  ------         --------------  -----         \n",
            " 0   Order ID       8047 non-null   object        \n",
            " 1   Order Date     8047 non-null   datetime64[ns]\n",
            " 2   Customer Name  8047 non-null   object        \n",
            " 3   City           8047 non-null   object        \n",
            " 4   Country        8047 non-null   object        \n",
            " 5   Region         8047 non-null   object        \n",
            " 6   Segment        8047 non-null   object        \n",
            " 7   Ship Date      8047 non-null   datetime64[ns]\n",
            " 8   Ship Mode      8047 non-null   object        \n",
            " 9   State          8047 non-null   object        \n",
            " 10  Product Name   8047 non-null   object        \n",
            " 11  Discount       8047 non-null   float64       \n",
            " 12  Sales          8045 non-null   float64       \n",
            " 13  Profit         8047 non-null   int64         \n",
            " 14  Quantity       8047 non-null   int64         \n",
            " 15  Category       8047 non-null   object        \n",
            " 16  Sub-Category   8047 non-null   object        \n",
            "dtypes: datetime64[ns](2), float64(2), int64(2), object(11)\n",
            "memory usage: 1.0+ MB\n",
            "None\n",
            "                          Order Date                      Ship Date  \\\n",
            "count                           8047                           8047   \n",
            "mean   2013-04-19 12:25:40.748104704  2013-04-23 12:36:14.226419968   \n",
            "min              2011-01-01 00:00:00            2011-01-05 00:00:00   \n",
            "25%              2012-06-08 00:00:00            2012-06-13 00:00:00   \n",
            "50%              2013-06-11 00:00:00            2013-06-15 00:00:00   \n",
            "75%              2014-04-30 00:00:00            2014-05-04 12:00:00   \n",
            "max              2014-12-31 00:00:00            2015-01-05 00:00:00   \n",
            "std                              NaN                            NaN   \n",
            "\n",
            "          Discount        Sales       Profit     Quantity  \n",
            "count  8047.000000  8045.000000  8047.000000  8047.000000  \n",
            "mean      0.110047   291.845867    35.198211     3.772089  \n",
            "min       0.000000     3.000000 -3060.000000     1.000000  \n",
            "25%       0.000000    48.000000     1.000000     2.000000  \n",
            "50%       0.000000   117.000000    14.000000     3.000000  \n",
            "75%       0.100000   313.000000    47.000000     5.000000  \n",
            "max       0.850000  6517.000000  2476.000000    14.000000  \n",
            "std       0.181773   485.258204   178.125844     2.203369  \n"
          ]
        }
      ],
      "source": [
        "#Merge the orders and sales df on the Order ID column\n",
        "df=pd.merge(orders,sales,on='Order ID')\n",
        "print(df.info())\n",
        "print(df.describe())"
      ]
    },
    {
      "cell_type": "markdown",
      "metadata": {
        "id": "Zf_Dotv6xTLH"
      },
      "source": [
        "1. Modify multiple column names.\n"
      ]
    },
    {
      "cell_type": "code",
      "execution_count": 4,
      "metadata": {
        "colab": {
          "base_uri": "https://localhost:8080/"
        },
        "id": "PqWy4WbXxTLI",
        "outputId": "90c501e6-9497-43b5-8084-c221bb609f70"
      },
      "outputs": [
        {
          "data": {
            "text/plain": [
              "Index(['Order_ID', 'Order_Date', 'Customer_Name', 'City', 'Country', 'Region',\n",
              "       'Segment', 'Ship_Date', 'Ship_Mode', 'State', 'Product_Name',\n",
              "       'Discount', 'Sales', 'Profit', 'Quantity', 'Category', 'Sub-Category'],\n",
              "      dtype='object')"
            ]
          },
          "execution_count": 4,
          "metadata": {},
          "output_type": "execute_result"
        }
      ],
      "source": [
        "#Standardize columns name so that space will be replaced by'_'\n",
        "df.rename(columns=lambda x:x.replace(' ','_'), inplace=True)\n",
        "df.columns"
      ]
    },
    {
      "cell_type": "markdown",
      "metadata": {
        "id": "3pUjrUpwxTLI"
      },
      "source": [
        "2. Look at the structure of your data – are any variables improperly coded? Such as strings or characters? Convert to correct structure if needed."
      ]
    },
    {
      "cell_type": "code",
      "execution_count": 5,
      "metadata": {
        "id": "_vTlKIdFxTLI"
      },
      "outputs": [],
      "source": [
        "# change profit to proper type 'float'\n",
        "df.Profit=df.Profit.astype(float)"
      ]
    },
    {
      "cell_type": "markdown",
      "metadata": {
        "id": "KRXv1S4hxTLI"
      },
      "source": [
        "3. Fix missing and invalid values in data.\n",
        "\n",
        "\n",
        "\n"
      ]
    },
    {
      "cell_type": "code",
      "execution_count": 6,
      "metadata": {
        "id": "nATPKSaNXD9B"
      },
      "outputs": [],
      "source": [
        "#fill the missing value in sales column\n",
        "#with the mean 'Sales' value calculated for the respective 'Country', 'Category', and 'Sub-Category' group\n",
        "mean_sales = df.groupby(['Country', 'Category', 'Sub-Category'])['Sales'].transform('mean')\n",
        "df.Sales=df.Sales.fillna(mean_sales)"
      ]
    },
    {
      "cell_type": "markdown",
      "metadata": {
        "id": "xIs4YHzdxTLI"
      },
      "source": [
        "\n",
        "4. Create new columns based on existing columns or calculations."
      ]
    },
    {
      "cell_type": "code",
      "execution_count": 7,
      "metadata": {
        "id": "QUMoaLdoxTLI"
      },
      "outputs": [],
      "source": [
        "# create quarter col based on Order_Date values\n",
        "df['Quarter']=df.Order_Date.dt.quarter"
      ]
    },
    {
      "cell_type": "markdown",
      "metadata": {
        "id": "KEcZSEiIxTLJ"
      },
      "source": [
        "5. Drop column(s) from dataset."
      ]
    },
    {
      "cell_type": "code",
      "execution_count": 8,
      "metadata": {
        "colab": {
          "base_uri": "https://localhost:8080/"
        },
        "id": "okoFU4B-xTLJ",
        "outputId": "41654180-75ae-4e86-d890-7597df883a26"
      },
      "outputs": [
        {
          "data": {
            "text/plain": [
              "Index(['Order_ID', 'Order_Date', 'Customer_Name', 'City', 'Country', 'Region',\n",
              "       'Segment', 'Ship_Date', 'Ship_Mode', 'State', 'Product_Name',\n",
              "       'Discount', 'Sales', 'Profit', 'Quantity', 'Category', 'Sub-Category',\n",
              "       'Quarter'],\n",
              "      dtype='object')"
            ]
          },
          "execution_count": 8,
          "metadata": {},
          "output_type": "execute_result"
        }
      ],
      "source": [
        "# columnns for before drop\n",
        "df.columns"
      ]
    },
    {
      "cell_type": "code",
      "execution_count": 9,
      "metadata": {
        "id": "6KohXp5XxTLJ"
      },
      "outputs": [],
      "source": [
        "# identify drop columns and drop\n",
        "column_to_drop=['Order_ID', 'Order_Date', 'Customer_Name','Segment','Ship_Date', 'Ship_Mode','Discount','Quantity' ]\n",
        "df.drop(column_to_drop, axis=1, inplace=True)"
      ]
    },
    {
      "cell_type": "code",
      "execution_count": 10,
      "metadata": {
        "colab": {
          "base_uri": "https://localhost:8080/"
        },
        "id": "rrUlkkZOxTLJ",
        "outputId": "3e2b0845-5dda-46b7-b23a-927d0dc0f014"
      },
      "outputs": [
        {
          "name": "stdout",
          "output_type": "stream",
          "text": [
            "<class 'pandas.core.frame.DataFrame'>\n",
            "RangeIndex: 8047 entries, 0 to 8046\n",
            "Data columns (total 10 columns):\n",
            " #   Column        Non-Null Count  Dtype  \n",
            "---  ------        --------------  -----  \n",
            " 0   City          8047 non-null   object \n",
            " 1   Country       8047 non-null   object \n",
            " 2   Region        8047 non-null   object \n",
            " 3   State         8047 non-null   object \n",
            " 4   Product_Name  8047 non-null   object \n",
            " 5   Sales         8047 non-null   float64\n",
            " 6   Profit        8047 non-null   float64\n",
            " 7   Category      8047 non-null   object \n",
            " 8   Sub-Category  8047 non-null   object \n",
            " 9   Quarter       8047 non-null   int32  \n",
            "dtypes: float64(2), int32(1), object(7)\n",
            "memory usage: 597.4+ KB\n",
            "None\n"
          ]
        }
      ],
      "source": [
        "# check columns after the drop and summary statistics\n",
        "df.columns\n",
        "print(df.info())"
      ]
    },
    {
      "cell_type": "markdown",
      "metadata": {
        "id": "L9Fz-4G4xTLJ"
      },
      "source": [
        "6. Drop a row(s) from your dataset."
      ]
    },
    {
      "cell_type": "code",
      "execution_count": 11,
      "metadata": {
        "colab": {
          "base_uri": "https://localhost:8080/"
        },
        "id": "9ji-PBxaxTLJ",
        "outputId": "caeafcf9-fba1-4661-afa0-3b6e847acc7c"
      },
      "outputs": [
        {
          "name": "stdout",
          "output_type": "stream",
          "text": [
            "             Sales       Profit      Quarter\n",
            "count  6268.000000  6268.000000  6268.000000\n",
            "mean    287.576358    34.982131     2.936024\n",
            "std     476.147754   175.222072     1.115147\n",
            "min       4.000000 -2211.000000     1.000000\n",
            "25%      48.000000     1.000000     3.000000\n",
            "50%     115.000000    14.000000     3.000000\n",
            "75%     306.000000    46.000000     4.000000\n",
            "max    6517.000000  2476.000000     4.000000\n"
          ]
        }
      ],
      "source": [
        "# since we are focus on q4 data, let's drop q2\n",
        "df = df.drop(df[df['Quarter'] == 2].index)\n",
        "print(df.describe())"
      ]
    },
    {
      "cell_type": "markdown",
      "metadata": {
        "id": "cDJ1xenoxTLK"
      },
      "source": [
        "7. Sort your data based on multiple variables.\n",
        "\n"
      ]
    },
    {
      "cell_type": "code",
      "execution_count": 12,
      "metadata": {
        "colab": {
          "base_uri": "https://localhost:8080/",
          "height": 580
        },
        "id": "Ma-UTijzxTLK",
        "outputId": "e294751e-a2ab-49f0-fb4a-8e0462d91e51"
      },
      "outputs": [
        {
          "data": {
            "text/html": [
              "<div>\n",
              "<style scoped>\n",
              "    .dataframe tbody tr th:only-of-type {\n",
              "        vertical-align: middle;\n",
              "    }\n",
              "\n",
              "    .dataframe tbody tr th {\n",
              "        vertical-align: top;\n",
              "    }\n",
              "\n",
              "    .dataframe thead th {\n",
              "        text-align: right;\n",
              "    }\n",
              "</style>\n",
              "<table border=\"1\" class=\"dataframe\">\n",
              "  <thead>\n",
              "    <tr style=\"text-align: right;\">\n",
              "      <th></th>\n",
              "      <th>City</th>\n",
              "      <th>Country</th>\n",
              "      <th>Region</th>\n",
              "      <th>State</th>\n",
              "      <th>Product_Name</th>\n",
              "      <th>Sales</th>\n",
              "      <th>Profit</th>\n",
              "      <th>Category</th>\n",
              "      <th>Sub-Category</th>\n",
              "      <th>Quarter</th>\n",
              "    </tr>\n",
              "  </thead>\n",
              "  <tbody>\n",
              "    <tr>\n",
              "      <th>868</th>\n",
              "      <td>Lugo</td>\n",
              "      <td>Spain</td>\n",
              "      <td>South</td>\n",
              "      <td>Galicia</td>\n",
              "      <td>Hamilton Beach Stove, Silver</td>\n",
              "      <td>6517.0</td>\n",
              "      <td>2476.0</td>\n",
              "      <td>Office Supplies</td>\n",
              "      <td>Appliances</td>\n",
              "      <td>3</td>\n",
              "    </tr>\n",
              "    <tr>\n",
              "      <th>2317</th>\n",
              "      <td>West Bromwich</td>\n",
              "      <td>United Kingdom</td>\n",
              "      <td>North</td>\n",
              "      <td>England</td>\n",
              "      <td>Hoover Stove, Red</td>\n",
              "      <td>3979.0</td>\n",
              "      <td>1990.0</td>\n",
              "      <td>Office Supplies</td>\n",
              "      <td>Appliances</td>\n",
              "      <td>3</td>\n",
              "    </tr>\n",
              "    <tr>\n",
              "      <th>4231</th>\n",
              "      <td>Bologna</td>\n",
              "      <td>Italy</td>\n",
              "      <td>South</td>\n",
              "      <td>Emilia-Romagna</td>\n",
              "      <td>Hoover Stove, Red</td>\n",
              "      <td>3979.0</td>\n",
              "      <td>1990.0</td>\n",
              "      <td>Office Supplies</td>\n",
              "      <td>Appliances</td>\n",
              "      <td>3</td>\n",
              "    </tr>\n",
              "    <tr>\n",
              "      <th>3593</th>\n",
              "      <td>Edinburgh</td>\n",
              "      <td>United Kingdom</td>\n",
              "      <td>North</td>\n",
              "      <td>Scotland</td>\n",
              "      <td>KitchenAid Refrigerator, Black</td>\n",
              "      <td>5274.0</td>\n",
              "      <td>1898.0</td>\n",
              "      <td>Office Supplies</td>\n",
              "      <td>Appliances</td>\n",
              "      <td>1</td>\n",
              "    </tr>\n",
              "    <tr>\n",
              "      <th>117</th>\n",
              "      <td>Muret</td>\n",
              "      <td>France</td>\n",
              "      <td>Central</td>\n",
              "      <td>Languedoc-Roussillon-Midi-Pyrénées</td>\n",
              "      <td>SAFCO Executive Leather Armchair, Black</td>\n",
              "      <td>4544.0</td>\n",
              "      <td>1868.0</td>\n",
              "      <td>Furniture</td>\n",
              "      <td>Chairs</td>\n",
              "      <td>1</td>\n",
              "    </tr>\n",
              "    <tr>\n",
              "      <th>...</th>\n",
              "      <td>...</td>\n",
              "      <td>...</td>\n",
              "      <td>...</td>\n",
              "      <td>...</td>\n",
              "      <td>...</td>\n",
              "      <td>...</td>\n",
              "      <td>...</td>\n",
              "      <td>...</td>\n",
              "      <td>...</td>\n",
              "      <td>...</td>\n",
              "    </tr>\n",
              "    <tr>\n",
              "      <th>5362</th>\n",
              "      <td>Barcelona</td>\n",
              "      <td>Spain</td>\n",
              "      <td>South</td>\n",
              "      <td>Catalonia</td>\n",
              "      <td>Lesro Conference Table, with Bottom Storage</td>\n",
              "      <td>1715.0</td>\n",
              "      <td>-1630.0</td>\n",
              "      <td>Furniture</td>\n",
              "      <td>Tables</td>\n",
              "      <td>4</td>\n",
              "    </tr>\n",
              "    <tr>\n",
              "      <th>1705</th>\n",
              "      <td>Tilburg</td>\n",
              "      <td>Netherlands</td>\n",
              "      <td>Central</td>\n",
              "      <td>North Brabant</td>\n",
              "      <td>Canon Wireless Fax, Color</td>\n",
              "      <td>1901.0</td>\n",
              "      <td>-1673.0</td>\n",
              "      <td>Technology</td>\n",
              "      <td>Copiers</td>\n",
              "      <td>1</td>\n",
              "    </tr>\n",
              "    <tr>\n",
              "      <th>6553</th>\n",
              "      <td>Stockholm</td>\n",
              "      <td>Sweden</td>\n",
              "      <td>North</td>\n",
              "      <td>Stockholm</td>\n",
              "      <td>Barricks Conference Table, Adjustable Height</td>\n",
              "      <td>1364.0</td>\n",
              "      <td>-1864.0</td>\n",
              "      <td>Furniture</td>\n",
              "      <td>Tables</td>\n",
              "      <td>3</td>\n",
              "    </tr>\n",
              "    <tr>\n",
              "      <th>5645</th>\n",
              "      <td>Stockholm</td>\n",
              "      <td>Sweden</td>\n",
              "      <td>North</td>\n",
              "      <td>Stockholm</td>\n",
              "      <td>Sauder Classic Bookcase, Metal</td>\n",
              "      <td>2830.0</td>\n",
              "      <td>-1981.0</td>\n",
              "      <td>Furniture</td>\n",
              "      <td>Bookcases</td>\n",
              "      <td>1</td>\n",
              "    </tr>\n",
              "    <tr>\n",
              "      <th>3656</th>\n",
              "      <td>Bergen op Zoom</td>\n",
              "      <td>Netherlands</td>\n",
              "      <td>Central</td>\n",
              "      <td>North Brabant</td>\n",
              "      <td>Office Star Executive Leather Armchair, Black</td>\n",
              "      <td>2571.0</td>\n",
              "      <td>-2211.0</td>\n",
              "      <td>Furniture</td>\n",
              "      <td>Chairs</td>\n",
              "      <td>1</td>\n",
              "    </tr>\n",
              "  </tbody>\n",
              "</table>\n",
              "<p>6268 rows × 10 columns</p>\n",
              "</div>"
            ],
            "text/plain": [
              "                City         Country   Region  \\\n",
              "868             Lugo           Spain    South   \n",
              "2317   West Bromwich  United Kingdom    North   \n",
              "4231         Bologna           Italy    South   \n",
              "3593       Edinburgh  United Kingdom    North   \n",
              "117            Muret          France  Central   \n",
              "...              ...             ...      ...   \n",
              "5362       Barcelona           Spain    South   \n",
              "1705         Tilburg     Netherlands  Central   \n",
              "6553       Stockholm          Sweden    North   \n",
              "5645       Stockholm          Sweden    North   \n",
              "3656  Bergen op Zoom     Netherlands  Central   \n",
              "\n",
              "                                   State  \\\n",
              "868                              Galicia   \n",
              "2317                             England   \n",
              "4231                      Emilia-Romagna   \n",
              "3593                            Scotland   \n",
              "117   Languedoc-Roussillon-Midi-Pyrénées   \n",
              "...                                  ...   \n",
              "5362                           Catalonia   \n",
              "1705                       North Brabant   \n",
              "6553                           Stockholm   \n",
              "5645                           Stockholm   \n",
              "3656                       North Brabant   \n",
              "\n",
              "                                       Product_Name   Sales  Profit  \\\n",
              "868                    Hamilton Beach Stove, Silver  6517.0  2476.0   \n",
              "2317                              Hoover Stove, Red  3979.0  1990.0   \n",
              "4231                              Hoover Stove, Red  3979.0  1990.0   \n",
              "3593                 KitchenAid Refrigerator, Black  5274.0  1898.0   \n",
              "117         SAFCO Executive Leather Armchair, Black  4544.0  1868.0   \n",
              "...                                             ...     ...     ...   \n",
              "5362    Lesro Conference Table, with Bottom Storage  1715.0 -1630.0   \n",
              "1705                      Canon Wireless Fax, Color  1901.0 -1673.0   \n",
              "6553   Barricks Conference Table, Adjustable Height  1364.0 -1864.0   \n",
              "5645                 Sauder Classic Bookcase, Metal  2830.0 -1981.0   \n",
              "3656  Office Star Executive Leather Armchair, Black  2571.0 -2211.0   \n",
              "\n",
              "             Category Sub-Category  Quarter  \n",
              "868   Office Supplies   Appliances        3  \n",
              "2317  Office Supplies   Appliances        3  \n",
              "4231  Office Supplies   Appliances        3  \n",
              "3593  Office Supplies   Appliances        1  \n",
              "117         Furniture       Chairs        1  \n",
              "...               ...          ...      ...  \n",
              "5362        Furniture       Tables        4  \n",
              "1705       Technology      Copiers        1  \n",
              "6553        Furniture       Tables        3  \n",
              "5645        Furniture    Bookcases        1  \n",
              "3656        Furniture       Chairs        1  \n",
              "\n",
              "[6268 rows x 10 columns]"
            ]
          },
          "execution_count": 12,
          "metadata": {},
          "output_type": "execute_result"
        }
      ],
      "source": [
        "# sort df by profit and quarter, result in descending order\n",
        "df.sort_values(by=['Profit','Quarter'], ascending=False)"
      ]
    },
    {
      "cell_type": "markdown",
      "metadata": {
        "id": "4IrvpBbExTLK"
      },
      "source": [
        "8. Filter your data based on some condition."
      ]
    },
    {
      "cell_type": "code",
      "execution_count": 13,
      "metadata": {
        "colab": {
          "base_uri": "https://localhost:8080/",
          "height": 300
        },
        "id": "uxrGUCikxTLK",
        "outputId": "07ac6b32-54d9-4f00-cffc-b2516b8d25ca"
      },
      "outputs": [
        {
          "data": {
            "text/html": [
              "<div>\n",
              "<style scoped>\n",
              "    .dataframe tbody tr th:only-of-type {\n",
              "        vertical-align: middle;\n",
              "    }\n",
              "\n",
              "    .dataframe tbody tr th {\n",
              "        vertical-align: top;\n",
              "    }\n",
              "\n",
              "    .dataframe thead th {\n",
              "        text-align: right;\n",
              "    }\n",
              "</style>\n",
              "<table border=\"1\" class=\"dataframe\">\n",
              "  <thead>\n",
              "    <tr style=\"text-align: right;\">\n",
              "      <th></th>\n",
              "      <th>Sales</th>\n",
              "      <th>Profit</th>\n",
              "      <th>Quarter</th>\n",
              "    </tr>\n",
              "  </thead>\n",
              "  <tbody>\n",
              "    <tr>\n",
              "      <th>count</th>\n",
              "      <td>2339.000000</td>\n",
              "      <td>2339.000000</td>\n",
              "      <td>2339.0</td>\n",
              "    </tr>\n",
              "    <tr>\n",
              "      <th>mean</th>\n",
              "      <td>287.238563</td>\n",
              "      <td>34.949124</td>\n",
              "      <td>4.0</td>\n",
              "    </tr>\n",
              "    <tr>\n",
              "      <th>std</th>\n",
              "      <td>471.348361</td>\n",
              "      <td>168.086828</td>\n",
              "      <td>0.0</td>\n",
              "    </tr>\n",
              "    <tr>\n",
              "      <th>min</th>\n",
              "      <td>4.000000</td>\n",
              "      <td>-1630.000000</td>\n",
              "      <td>4.0</td>\n",
              "    </tr>\n",
              "    <tr>\n",
              "      <th>25%</th>\n",
              "      <td>50.000000</td>\n",
              "      <td>0.000000</td>\n",
              "      <td>4.0</td>\n",
              "    </tr>\n",
              "    <tr>\n",
              "      <th>50%</th>\n",
              "      <td>116.000000</td>\n",
              "      <td>14.000000</td>\n",
              "      <td>4.0</td>\n",
              "    </tr>\n",
              "    <tr>\n",
              "      <th>75%</th>\n",
              "      <td>311.000000</td>\n",
              "      <td>47.000000</td>\n",
              "      <td>4.0</td>\n",
              "    </tr>\n",
              "    <tr>\n",
              "      <th>max</th>\n",
              "      <td>5785.000000</td>\n",
              "      <td>1528.000000</td>\n",
              "      <td>4.0</td>\n",
              "    </tr>\n",
              "  </tbody>\n",
              "</table>\n",
              "</div>"
            ],
            "text/plain": [
              "             Sales       Profit  Quarter\n",
              "count  2339.000000  2339.000000   2339.0\n",
              "mean    287.238563    34.949124      4.0\n",
              "std     471.348361   168.086828      0.0\n",
              "min       4.000000 -1630.000000      4.0\n",
              "25%      50.000000     0.000000      4.0\n",
              "50%     116.000000    14.000000      4.0\n",
              "75%     311.000000    47.000000      4.0\n",
              "max    5785.000000  1528.000000      4.0"
            ]
          },
          "execution_count": 13,
          "metadata": {},
          "output_type": "execute_result"
        }
      ],
      "source": [
        "# filter q4 data\n",
        "q4=df[df.Quarter==4]\n",
        "q4.describe()"
      ]
    },
    {
      "cell_type": "markdown",
      "metadata": {
        "id": "F5lUfj8QxTLK"
      },
      "source": [
        "9. Convert all the string values to upper or lower cases in one column."
      ]
    },
    {
      "cell_type": "code",
      "execution_count": 14,
      "metadata": {
        "colab": {
          "base_uri": "https://localhost:8080/"
        },
        "id": "NWOlt8b7xTLK",
        "outputId": "f70d1625-fa34-4873-c499-e6af5b13ff0d"
      },
      "outputs": [
        {
          "data": {
            "text/plain": [
              "1013         Piedmont\n",
              "1014         Piedmont\n",
              "1015         Piedmont\n",
              "1016         Piedmont\n",
              "1017    Ile-de-France\n",
              "            ...      \n",
              "8042          England\n",
              "8043          Hamburg\n",
              "8044    North Brabant\n",
              "8045    North Brabant\n",
              "8046    North Brabant\n",
              "Name: State, Length: 2339, dtype: object"
            ]
          },
          "execution_count": 14,
          "metadata": {},
          "output_type": "execute_result"
        }
      ],
      "source": [
        "# check state before the 'upper'\n",
        "q4.State"
      ]
    },
    {
      "cell_type": "code",
      "execution_count": 15,
      "metadata": {
        "colab": {
          "base_uri": "https://localhost:8080/"
        },
        "id": "SgqRO9YvxTLK",
        "outputId": "62133611-c51f-4709-9ab0-8a1dec87067d"
      },
      "outputs": [
        {
          "name": "stderr",
          "output_type": "stream",
          "text": [
            "/var/folders/61/8qjm5s6j2fl8bysl8s88t0vw0000gp/T/ipykernel_4922/612412103.py:2: SettingWithCopyWarning: \n",
            "A value is trying to be set on a copy of a slice from a DataFrame.\n",
            "Try using .loc[row_indexer,col_indexer] = value instead\n",
            "\n",
            "See the caveats in the documentation: https://pandas.pydata.org/pandas-docs/stable/user_guide/indexing.html#returning-a-view-versus-a-copy\n",
            "  q4.State=q4.State.str.upper()\n"
          ]
        }
      ],
      "source": [
        "# convert state column value to upper case\n",
        "q4.State=q4.State.str.upper()"
      ]
    },
    {
      "cell_type": "code",
      "execution_count": 16,
      "metadata": {
        "colab": {
          "base_uri": "https://localhost:8080/"
        },
        "id": "JuQIt5O9xTLK",
        "outputId": "17dfb522-79e5-48be-cd74-1955ace95618"
      },
      "outputs": [
        {
          "data": {
            "text/plain": [
              "1013         PIEDMONT\n",
              "1014         PIEDMONT\n",
              "1015         PIEDMONT\n",
              "1016         PIEDMONT\n",
              "1017    ILE-DE-FRANCE\n",
              "            ...      \n",
              "8042          ENGLAND\n",
              "8043          HAMBURG\n",
              "8044    NORTH BRABANT\n",
              "8045    NORTH BRABANT\n",
              "8046    NORTH BRABANT\n",
              "Name: State, Length: 2339, dtype: object"
            ]
          },
          "execution_count": 16,
          "metadata": {},
          "output_type": "execute_result"
        }
      ],
      "source": [
        "# check after the conversion\n",
        "q4.State"
      ]
    },
    {
      "cell_type": "markdown",
      "metadata": {
        "id": "jmdoohcoxTLL"
      },
      "source": [
        "10. Check whether numeric values are present in a given column of your dataframe."
      ]
    },
    {
      "cell_type": "code",
      "execution_count": 17,
      "metadata": {
        "colab": {
          "base_uri": "https://localhost:8080/"
        },
        "id": "9d9lEsjCxTLL",
        "outputId": "ea71742e-c8a9-4333-9118-31e4d577c13a"
      },
      "outputs": [
        {
          "name": "stdout",
          "output_type": "stream",
          "text": [
            "Numeric values are present in the Sales column.\n"
          ]
        }
      ],
      "source": [
        "# check numeric value in Sales column using pd.to_numeric\n",
        "try:\n",
        "    pd.to_numeric(q4.Sales)\n",
        "    print(\"Numeric values are present in the Sales column.\")\n",
        "except ValueError:\n",
        "    print(\"Numeric values are not present in the Sales column.\")"
      ]
    },
    {
      "cell_type": "markdown",
      "metadata": {
        "id": "SEsYU8c4xTLL"
      },
      "source": [
        "11. Group your dataset by one column, and get the mean, min, and max values by group"
      ]
    },
    {
      "cell_type": "code",
      "execution_count": 18,
      "metadata": {
        "colab": {
          "base_uri": "https://localhost:8080/",
          "height": 551
        },
        "id": "9R4OFsM4xTLL",
        "outputId": "8d793fa3-b162-44eb-89f3-ed53483d48f8"
      },
      "outputs": [
        {
          "data": {
            "text/html": [
              "<div>\n",
              "<style scoped>\n",
              "    .dataframe tbody tr th:only-of-type {\n",
              "        vertical-align: middle;\n",
              "    }\n",
              "\n",
              "    .dataframe tbody tr th {\n",
              "        vertical-align: top;\n",
              "    }\n",
              "\n",
              "    .dataframe thead th {\n",
              "        text-align: right;\n",
              "    }\n",
              "</style>\n",
              "<table border=\"1\" class=\"dataframe\">\n",
              "  <thead>\n",
              "    <tr style=\"text-align: right;\">\n",
              "      <th></th>\n",
              "      <th>mean</th>\n",
              "      <th>min</th>\n",
              "      <th>max</th>\n",
              "    </tr>\n",
              "    <tr>\n",
              "      <th>Country</th>\n",
              "      <th></th>\n",
              "      <th></th>\n",
              "      <th></th>\n",
              "    </tr>\n",
              "  </thead>\n",
              "  <tbody>\n",
              "    <tr>\n",
              "      <th>Austria</th>\n",
              "      <td>425.319444</td>\n",
              "      <td>7.0</td>\n",
              "      <td>3221.0</td>\n",
              "    </tr>\n",
              "    <tr>\n",
              "      <th>Belgium</th>\n",
              "      <td>391.707317</td>\n",
              "      <td>11.0</td>\n",
              "      <td>2489.0</td>\n",
              "    </tr>\n",
              "    <tr>\n",
              "      <th>Denmark</th>\n",
              "      <td>132.333333</td>\n",
              "      <td>11.0</td>\n",
              "      <td>527.0</td>\n",
              "    </tr>\n",
              "    <tr>\n",
              "      <th>Finland</th>\n",
              "      <td>283.684211</td>\n",
              "      <td>17.0</td>\n",
              "      <td>990.0</td>\n",
              "    </tr>\n",
              "    <tr>\n",
              "      <th>France</th>\n",
              "      <td>329.734349</td>\n",
              "      <td>5.0</td>\n",
              "      <td>5729.0</td>\n",
              "    </tr>\n",
              "    <tr>\n",
              "      <th>Germany</th>\n",
              "      <td>259.776371</td>\n",
              "      <td>9.0</td>\n",
              "      <td>2907.0</td>\n",
              "    </tr>\n",
              "    <tr>\n",
              "      <th>Ireland</th>\n",
              "      <td>136.107143</td>\n",
              "      <td>6.0</td>\n",
              "      <td>981.0</td>\n",
              "    </tr>\n",
              "    <tr>\n",
              "      <th>Italy</th>\n",
              "      <td>251.157447</td>\n",
              "      <td>8.0</td>\n",
              "      <td>2553.0</td>\n",
              "    </tr>\n",
              "    <tr>\n",
              "      <th>Netherlands</th>\n",
              "      <td>212.111111</td>\n",
              "      <td>7.0</td>\n",
              "      <td>2071.0</td>\n",
              "    </tr>\n",
              "    <tr>\n",
              "      <th>Norway</th>\n",
              "      <td>229.545455</td>\n",
              "      <td>13.0</td>\n",
              "      <td>872.0</td>\n",
              "    </tr>\n",
              "    <tr>\n",
              "      <th>Portugal</th>\n",
              "      <td>164.820513</td>\n",
              "      <td>7.0</td>\n",
              "      <td>1278.0</td>\n",
              "    </tr>\n",
              "    <tr>\n",
              "      <th>Spain</th>\n",
              "      <td>297.711111</td>\n",
              "      <td>8.0</td>\n",
              "      <td>3063.0</td>\n",
              "    </tr>\n",
              "    <tr>\n",
              "      <th>Sweden</th>\n",
              "      <td>148.033898</td>\n",
              "      <td>4.0</td>\n",
              "      <td>1582.0</td>\n",
              "    </tr>\n",
              "    <tr>\n",
              "      <th>Switzerland</th>\n",
              "      <td>305.750000</td>\n",
              "      <td>12.0</td>\n",
              "      <td>1913.0</td>\n",
              "    </tr>\n",
              "    <tr>\n",
              "      <th>United Kingdom</th>\n",
              "      <td>307.732394</td>\n",
              "      <td>5.0</td>\n",
              "      <td>5785.0</td>\n",
              "    </tr>\n",
              "  </tbody>\n",
              "</table>\n",
              "</div>"
            ],
            "text/plain": [
              "                      mean   min     max\n",
              "Country                                 \n",
              "Austria         425.319444   7.0  3221.0\n",
              "Belgium         391.707317  11.0  2489.0\n",
              "Denmark         132.333333  11.0   527.0\n",
              "Finland         283.684211  17.0   990.0\n",
              "France          329.734349   5.0  5729.0\n",
              "Germany         259.776371   9.0  2907.0\n",
              "Ireland         136.107143   6.0   981.0\n",
              "Italy           251.157447   8.0  2553.0\n",
              "Netherlands     212.111111   7.0  2071.0\n",
              "Norway          229.545455  13.0   872.0\n",
              "Portugal        164.820513   7.0  1278.0\n",
              "Spain           297.711111   8.0  3063.0\n",
              "Sweden          148.033898   4.0  1582.0\n",
              "Switzerland     305.750000  12.0  1913.0\n",
              "United Kingdom  307.732394   5.0  5785.0"
            ]
          },
          "execution_count": 18,
          "metadata": {},
          "output_type": "execute_result"
        }
      ],
      "source": [
        "# groupby q4 by country\n",
        "q4.groupby('Country').Sales.agg(['mean','min','max'])"
      ]
    },
    {
      "cell_type": "markdown",
      "metadata": {
        "id": "Gnw37MuIxTLL"
      },
      "source": [
        "12. Group your dataset by two columns and then sort the aggregated results within the groups."
      ]
    },
    {
      "cell_type": "code",
      "execution_count": 19,
      "metadata": {
        "colab": {
          "base_uri": "https://localhost:8080/"
        },
        "id": "VM_hy0MRxTLU",
        "outputId": "646e826d-4c8c-42ff-bf22-c12e155827d1"
      },
      "outputs": [
        {
          "data": {
            "text/plain": [
              "Country      State        \n",
              "Austria      STYRIA           1057.666667\n",
              "Portugal     COIMBRA           837.000000\n",
              "Austria      TYROL             822.000000\n",
              "Belgium      EAST FLANDERS     760.833333\n",
              "Austria      CARINTHIA         678.636364\n",
              "                                 ...     \n",
              "Netherlands  GELDERLAND         66.250000\n",
              "             FRIESLAND          42.000000\n",
              "Switzerland  BERN               32.000000\n",
              "Netherlands  DRENTHE            16.000000\n",
              "Switzerland  ST. GALLEN         12.000000\n",
              "Name: Sales, Length: 111, dtype: float64"
            ]
          },
          "execution_count": 19,
          "metadata": {},
          "output_type": "execute_result"
        }
      ],
      "source": [
        "# mean sales per country and state, result in desc order\n",
        "q4.groupby(by=['Country','State']).Sales.agg('mean').sort_values(ascending=False)"
      ]
    },
    {
      "cell_type": "markdown",
      "metadata": {
        "id": "HJoDi6HsxTLU"
      },
      "source": [
        "13. \"Which top3 countries have the highest profit margin in Q4?\""
      ]
    },
    {
      "cell_type": "code",
      "execution_count": 20,
      "metadata": {
        "id": "YF0L7qpDxTLU"
      },
      "outputs": [],
      "source": [
        "# sum of sales and profit per country\n",
        "country_profit_grouped=q4.groupby('Country').agg({'Sales':'sum','Profit':'sum'}).reset_index()"
      ]
    },
    {
      "cell_type": "code",
      "execution_count": 21,
      "metadata": {
        "id": "3Hq2LH8HxTLU"
      },
      "outputs": [],
      "source": [
        "# create a new column profit_margin based on profit/sales for each country\n",
        "country_profit_grouped['Profit_Margin']=country_profit_grouped.Profit/country_profit_grouped.Sales"
      ]
    },
    {
      "cell_type": "code",
      "execution_count": 22,
      "metadata": {
        "colab": {
          "base_uri": "https://localhost:8080/",
          "height": 143
        },
        "id": "mhGG_2UQxTLU",
        "outputId": "dd7ee55c-e8d9-404b-a242-2873b626ec60"
      },
      "outputs": [
        {
          "data": {
            "text/html": [
              "<div>\n",
              "<style scoped>\n",
              "    .dataframe tbody tr th:only-of-type {\n",
              "        vertical-align: middle;\n",
              "    }\n",
              "\n",
              "    .dataframe tbody tr th {\n",
              "        vertical-align: top;\n",
              "    }\n",
              "\n",
              "    .dataframe thead th {\n",
              "        text-align: right;\n",
              "    }\n",
              "</style>\n",
              "<table border=\"1\" class=\"dataframe\">\n",
              "  <thead>\n",
              "    <tr style=\"text-align: right;\">\n",
              "      <th></th>\n",
              "      <th>Country</th>\n",
              "      <th>Sales</th>\n",
              "      <th>Profit</th>\n",
              "      <th>Profit_Margin</th>\n",
              "    </tr>\n",
              "  </thead>\n",
              "  <tbody>\n",
              "    <tr>\n",
              "      <th>0</th>\n",
              "      <td>Austria</td>\n",
              "      <td>30623.0</td>\n",
              "      <td>9380.0</td>\n",
              "      <td>0.306306</td>\n",
              "    </tr>\n",
              "    <tr>\n",
              "      <th>1</th>\n",
              "      <td>Switzerland</td>\n",
              "      <td>6115.0</td>\n",
              "      <td>1869.0</td>\n",
              "      <td>0.305642</td>\n",
              "    </tr>\n",
              "    <tr>\n",
              "      <th>2</th>\n",
              "      <td>Norway</td>\n",
              "      <td>5050.0</td>\n",
              "      <td>1502.0</td>\n",
              "      <td>0.297426</td>\n",
              "    </tr>\n",
              "  </tbody>\n",
              "</table>\n",
              "</div>"
            ],
            "text/plain": [
              "       Country    Sales  Profit  Profit_Margin\n",
              "0      Austria  30623.0  9380.0       0.306306\n",
              "1  Switzerland   6115.0  1869.0       0.305642\n",
              "2       Norway   5050.0  1502.0       0.297426"
            ]
          },
          "execution_count": 22,
          "metadata": {},
          "output_type": "execute_result"
        }
      ],
      "source": [
        "# identify the top3 countries based on profit_margin\n",
        "top3=country_profit_grouped.sort_values(by='Profit_Margin', ascending=False).head(3).reset_index(drop=True)\n",
        "top3"
      ]
    },
    {
      "cell_type": "markdown",
      "metadata": {
        "id": "tujjevRpXEen"
      },
      "source": [
        "# Conclusions  \n",
        "\n",
        "After exploring your dataset, provide a short summary of what you noticed from this dataset.  What would you explore further with more time?"
      ]
    },
    {
      "cell_type": "markdown",
      "metadata": {
        "id": "7zBYrDawxTLU"
      },
      "source": [
        "**Question \"Which top 3 countries have the highest profit margin in Q4?\"**\n",
        "#### Austria, Switzerland, and Norway  are the top 3 countries with the highest profit margins in Q4."
      ]
    },
    {
      "cell_type": "code",
      "execution_count": 23,
      "metadata": {
        "colab": {
          "base_uri": "https://localhost:8080/",
          "height": 674
        },
        "id": "SshtuQj9XR5_",
        "outputId": "362bf784-2ef2-41f4-d7d1-1a93d9fc2ee6"
      },
      "outputs": [
        {
          "data": {
            "image/png": "[encoded data removed]",
            "text/plain": [
              "<Figure size 1000x700 with 1 Axes>"
            ]
          },
          "metadata": {},
          "output_type": "display_data"
        }
      ],
      "source": [
        "#Create a bar plot with highlight text to answer the question\n",
        "\n",
        "import matplotlib.pyplot as plt\n",
        "sorted=country_profit_grouped.sort_values(by='Profit_Margin', ascending=False).head(10).reset_index(drop=True)\n",
        "plt.figure(figsize= (10,7))\n",
        "bars=plt.bar(sorted.Country,sorted.Profit_Margin,color='skyblue')\n",
        "plt.xticks(rotation=45)\n",
        "for i in range(3):  # Loop through the top 3\n",
        "    bar = bars[i]\n",
        "    height = bar.get_height()\n",
        "    plt.annotate('Top {}'.format(i+1),\n",
        "                 xy=(bar.get_x() + bar.get_width() / 2, height),\n",
        "                 xytext=(0, 3),  # 3 points vertical offset\n",
        "                 textcoords=\"offset points\",\n",
        "                 ha='center', va='bottom')\n",
        "plt.show()"
      ]
    }
  ],
  "metadata": {
    "colab": {
      "provenance": [],
      "toc_visible": true
    },
    "kernelspec": {
      "display_name": "Python 3",
      "name": "python3"
    },
    "language_info": {
      "codemirror_mode": {
        "name": "ipython",
        "version": 3
      },
      "file_extension": ".py",
      "mimetype": "text/x-python",
      "name": "python",
      "nbconvert_exporter": "python",
      "pygments_lexer": "ipython3",
      "version": "3.11.5"
    }
  },
  "nbformat": 4,
  "nbformat_minor": 0
}
